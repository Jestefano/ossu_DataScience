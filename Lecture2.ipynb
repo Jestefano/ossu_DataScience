{
  "nbformat": 4,
  "nbformat_minor": 0,
  "metadata": {
    "colab": {
      "name": "Lecture2.ipynb",
      "version": "0.3.2",
      "provenance": [],
      "collapsed_sections": [
        "1fH2ccvvBdOz",
        "KPtZyJVoEM8r",
        "QMEGmtgOFLFS",
        "pVWOvkVeQX2g",
        "Dp3C1jTwRCw5",
        "9wTaPGRqUyTa",
        "sNDoCd6uVpDh",
        "ofuqaGtu1LUi",
        "jropk4t52CWL",
        "AUGsxDkZ3YEA",
        "NvPtDgJTZWEM"
      ]
    },
    "kernelspec": {
      "name": "python3",
      "display_name": "Python 3"
    }
  },
  "cells": [
    {
      "cell_type": "markdown",
      "metadata": {
        "id": "Orj9srqsuBaH",
        "colab_type": "text"
      },
      "source": [
        "# Summary Coursera ML\n"
      ]
    },
    {
      "cell_type": "markdown",
      "metadata": {
        "id": "rEDH1AAyZPwv",
        "colab_type": "text"
      },
      "source": [
        "# Basic Data Analysis"
      ]
    },
    {
      "cell_type": "markdown",
      "metadata": {
        "id": "1fH2ccvvBdOz",
        "colab_type": "text"
      },
      "source": [
        "## Move data in Python\n",
        "There are two main things that we are going to move data around, one of them is the OS library, the other one is using IPython (terminal commands)\n"
      ]
    },
    {
      "cell_type": "code",
      "metadata": {
        "id": "7PEvAqmnuOkS",
        "colab_type": "code",
        "outputId": "324e5f5a-d079-49e1-b385-ce8c53cf3e1b",
        "colab": {
          "base_uri": "https://localhost:8080/",
          "height": 50
        }
      },
      "source": [
        "#print work directory\n",
        "!pwd\n",
        "\n",
        "#list of files in this folder\n",
        "l = !ls\n",
        "print(l)"
      ],
      "execution_count": 0,
      "outputs": [
        {
          "output_type": "stream",
          "text": [
            "/content\n",
            "['sample_data']\n"
          ],
          "name": "stdout"
        }
      ]
    },
    {
      "cell_type": "code",
      "metadata": {
        "id": "u8gQUDSB07pP",
        "colab_type": "code",
        "outputId": "58792a1d-8e11-42d4-c163-2b44e4c8b559",
        "colab": {
          "base_uri": "https://localhost:8080/",
          "height": 50
        }
      },
      "source": [
        "#Create directory\n",
        "!mkdir dir_1\n",
        "!mkdir dir_2"
      ],
      "execution_count": 0,
      "outputs": [
        {
          "output_type": "stream",
          "text": [
            "mkdir: cannot create directory ‘dir_1’: File exists\n",
            "mkdir: cannot create directory ‘dir_2’: File exists\n"
          ],
          "name": "stdout"
        }
      ]
    },
    {
      "cell_type": "code",
      "metadata": {
        "id": "io7nzu0yAFZ6",
        "colab_type": "code",
        "outputId": "675d97bd-8e4e-4613-98f0-0daf4b629a9e",
        "colab": {
          "base_uri": "https://localhost:8080/",
          "height": 34
        }
      },
      "source": [
        "!ls"
      ],
      "execution_count": 0,
      "outputs": [
        {
          "output_type": "stream",
          "text": [
            "dir_1  dir_2  sample_data\n"
          ],
          "name": "stdout"
        }
      ]
    },
    {
      "cell_type": "code",
      "metadata": {
        "id": "HkmxLxRiAG6G",
        "colab_type": "code",
        "outputId": "9d3ef56b-f574-4eda-9d21-76b82450ae9d",
        "colab": {
          "base_uri": "https://localhost:8080/",
          "height": 34
        }
      },
      "source": [
        "import os \n",
        "dir_ = os.getcwd()\n",
        "dir_"
      ],
      "execution_count": 0,
      "outputs": [
        {
          "output_type": "execute_result",
          "data": {
            "text/plain": [
              "'/content'"
            ]
          },
          "metadata": {
            "tags": []
          },
          "execution_count": 37
        }
      ]
    },
    {
      "cell_type": "code",
      "metadata": {
        "id": "MFs6kKAbBVlI",
        "colab_type": "code",
        "outputId": "a87e0bed-f884-4979-8bea-94b885566b17",
        "colab": {
          "base_uri": "https://localhost:8080/",
          "height": 34
        }
      },
      "source": [
        "os.chdir(dir_+'/dir_2')\n",
        "!pwd"
      ],
      "execution_count": 0,
      "outputs": [
        {
          "output_type": "stream",
          "text": [
            "/content/dir_2\n"
          ],
          "name": "stdout"
        }
      ]
    },
    {
      "cell_type": "code",
      "metadata": {
        "id": "xw96vVP6BmJb",
        "colab_type": "code",
        "outputId": "dd95d66f-a951-49e7-abeb-67ef97dedf7b",
        "colab": {
          "base_uri": "https://localhost:8080/",
          "height": 34
        }
      },
      "source": [
        "#change name of a file:\n",
        "\n",
        "os.chdir(dir_)\n",
        "os.rename('dir_2','new_name')\n",
        "\n",
        "!ls"
      ],
      "execution_count": 0,
      "outputs": [
        {
          "output_type": "stream",
          "text": [
            "dir_1  new_name  sample_data\n"
          ],
          "name": "stdout"
        }
      ]
    },
    {
      "cell_type": "markdown",
      "metadata": {
        "id": "KPtZyJVoEM8r",
        "colab_type": "text"
      },
      "source": [
        "## Reading csv:"
      ]
    },
    {
      "cell_type": "code",
      "metadata": {
        "id": "1exH1GSLG7yu",
        "colab_type": "code",
        "outputId": "4f93a9bb-f25f-40d6-e228-d9cd4f075291",
        "colab": {
          "base_uri": "https://localhost:8080/",
          "height": 106
        }
      },
      "source": [
        "#First, I am going to create a dummy .csv\n",
        "import pandas as pd\n",
        "\n",
        "df = pd.DataFrame([[1,2,3],[2,3,4]],columns=['colA','colB','colC'])\n",
        "df.head()"
      ],
      "execution_count": 0,
      "outputs": [
        {
          "output_type": "execute_result",
          "data": {
            "text/html": [
              "<div>\n",
              "<style scoped>\n",
              "    .dataframe tbody tr th:only-of-type {\n",
              "        vertical-align: middle;\n",
              "    }\n",
              "\n",
              "    .dataframe tbody tr th {\n",
              "        vertical-align: top;\n",
              "    }\n",
              "\n",
              "    .dataframe thead th {\n",
              "        text-align: right;\n",
              "    }\n",
              "</style>\n",
              "<table border=\"1\" class=\"dataframe\">\n",
              "  <thead>\n",
              "    <tr style=\"text-align: right;\">\n",
              "      <th></th>\n",
              "      <th>colA</th>\n",
              "      <th>colB</th>\n",
              "      <th>colC</th>\n",
              "    </tr>\n",
              "  </thead>\n",
              "  <tbody>\n",
              "    <tr>\n",
              "      <th>0</th>\n",
              "      <td>1</td>\n",
              "      <td>2</td>\n",
              "      <td>3</td>\n",
              "    </tr>\n",
              "    <tr>\n",
              "      <th>1</th>\n",
              "      <td>2</td>\n",
              "      <td>3</td>\n",
              "      <td>4</td>\n",
              "    </tr>\n",
              "  </tbody>\n",
              "</table>\n",
              "</div>"
            ],
            "text/plain": [
              "   colA  colB  colC\n",
              "0     1     2     3\n",
              "1     2     3     4"
            ]
          },
          "metadata": {
            "tags": []
          },
          "execution_count": 42
        }
      ]
    },
    {
      "cell_type": "code",
      "metadata": {
        "id": "RAW7yd0kFKU9",
        "colab_type": "code",
        "outputId": "8670a746-ff23-400b-bce6-35c6fcd9f83d",
        "colab": {
          "base_uri": "https://localhost:8080/",
          "height": 106
        }
      },
      "source": [
        "#save:\n",
        "df.to_csv('name.csv',index = False)\n",
        "\n",
        "#Charge data:\n",
        "df = pd.read_csv('name.csv')\n",
        "\n",
        "df.head()"
      ],
      "execution_count": 0,
      "outputs": [
        {
          "output_type": "execute_result",
          "data": {
            "text/html": [
              "<div>\n",
              "<style scoped>\n",
              "    .dataframe tbody tr th:only-of-type {\n",
              "        vertical-align: middle;\n",
              "    }\n",
              "\n",
              "    .dataframe tbody tr th {\n",
              "        vertical-align: top;\n",
              "    }\n",
              "\n",
              "    .dataframe thead th {\n",
              "        text-align: right;\n",
              "    }\n",
              "</style>\n",
              "<table border=\"1\" class=\"dataframe\">\n",
              "  <thead>\n",
              "    <tr style=\"text-align: right;\">\n",
              "      <th></th>\n",
              "      <th>colA</th>\n",
              "      <th>colB</th>\n",
              "      <th>colC</th>\n",
              "    </tr>\n",
              "  </thead>\n",
              "  <tbody>\n",
              "    <tr>\n",
              "      <th>0</th>\n",
              "      <td>1</td>\n",
              "      <td>2</td>\n",
              "      <td>3</td>\n",
              "    </tr>\n",
              "    <tr>\n",
              "      <th>1</th>\n",
              "      <td>2</td>\n",
              "      <td>3</td>\n",
              "      <td>4</td>\n",
              "    </tr>\n",
              "  </tbody>\n",
              "</table>\n",
              "</div>"
            ],
            "text/plain": [
              "   colA  colB  colC\n",
              "0     1     2     3\n",
              "1     2     3     4"
            ]
          },
          "metadata": {
            "tags": []
          },
          "execution_count": 43
        }
      ]
    },
    {
      "cell_type": "code",
      "metadata": {
        "id": "CydwtJsVHx_2",
        "colab_type": "code",
        "outputId": "b6325c07-08f5-4a07-a0be-1baa873da208",
        "colab": {
          "base_uri": "https://localhost:8080/",
          "height": 34
        }
      },
      "source": [
        "!ls"
      ],
      "execution_count": 0,
      "outputs": [
        {
          "output_type": "stream",
          "text": [
            "dir_1  name.csv  new_name  sample_data\n"
          ],
          "name": "stdout"
        }
      ]
    },
    {
      "cell_type": "markdown",
      "metadata": {
        "id": "QMEGmtgOFLFS",
        "colab_type": "text"
      },
      "source": [
        "## Working with files:"
      ]
    },
    {
      "cell_type": "code",
      "metadata": {
        "id": "S6hPhSTeNsw0",
        "colab_type": "code",
        "colab": {}
      },
      "source": [
        "#If the file does not exists, it creates it:\n",
        "\n",
        "with open('data.txt', 'w') as f:\n",
        "    f.write('asdasd\\nasdasd')"
      ],
      "execution_count": 0,
      "outputs": []
    },
    {
      "cell_type": "code",
      "metadata": {
        "id": "YS7RKlv6ObFg",
        "colab_type": "code",
        "outputId": "4359c152-2372-4b3c-f1a1-2508200613ab",
        "colab": {
          "base_uri": "https://localhost:8080/",
          "height": 50
        }
      },
      "source": [
        "#We read:\n",
        "\n",
        "with open('data.txt', 'r') as f:\n",
        "  s = f.read()\n",
        "  print(s)"
      ],
      "execution_count": 0,
      "outputs": [
        {
          "output_type": "stream",
          "text": [
            "asdasd\n",
            "asdasd\n"
          ],
          "name": "stdout"
        }
      ]
    },
    {
      "cell_type": "markdown",
      "metadata": {
        "id": "Ohdd8wJUNteV",
        "colab_type": "text"
      },
      "source": [
        "## Operations on a matrix:"
      ]
    },
    {
      "cell_type": "markdown",
      "metadata": {
        "id": "pVWOvkVeQX2g",
        "colab_type": "text"
      },
      "source": [
        "### Selection of entries and modification of data:"
      ]
    },
    {
      "cell_type": "code",
      "metadata": {
        "id": "g7LaJy2jQaLS",
        "colab_type": "code",
        "outputId": "e6c0a132-5f6b-4db7-f81f-9eb8b4130a72",
        "colab": {
          "base_uri": "https://localhost:8080/",
          "height": 67
        }
      },
      "source": [
        "import numpy as np\n",
        "\n",
        "x = np.random.random((3,3))\n",
        "x"
      ],
      "execution_count": 0,
      "outputs": [
        {
          "output_type": "execute_result",
          "data": {
            "text/plain": [
              "array([[0.17284161, 0.0440353 , 0.99718581],\n",
              "       [0.79264741, 0.38122219, 0.3185216 ],\n",
              "       [0.19497911, 0.14422484, 0.60222718]])"
            ]
          },
          "metadata": {
            "tags": []
          },
          "execution_count": 49
        }
      ]
    },
    {
      "cell_type": "code",
      "metadata": {
        "id": "SStJakY5QfYt",
        "colab_type": "code",
        "outputId": "3b3e439f-307f-4c12-99c5-198e545b7153",
        "colab": {
          "base_uri": "https://localhost:8080/",
          "height": 50
        }
      },
      "source": [
        "#We can select using arrays:\n",
        "x[[0,2],:]"
      ],
      "execution_count": 0,
      "outputs": [
        {
          "output_type": "execute_result",
          "data": {
            "text/plain": [
              "array([[0.17284161, 0.0440353 , 0.99718581],\n",
              "       [0.19497911, 0.14422484, 0.60222718]])"
            ]
          },
          "metadata": {
            "tags": []
          },
          "execution_count": 50
        }
      ]
    },
    {
      "cell_type": "code",
      "metadata": {
        "id": "iEiafsTfQokC",
        "colab_type": "code",
        "outputId": "6ae93969-f5f0-4ae2-8453-93afc609d813",
        "colab": {
          "base_uri": "https://localhost:8080/",
          "height": 67
        }
      },
      "source": [
        "#And we can modify those values\n",
        "x[[0,2],:] = [[1,2,3],[2,3,4]]\n",
        "x"
      ],
      "execution_count": 0,
      "outputs": [
        {
          "output_type": "execute_result",
          "data": {
            "text/plain": [
              "array([[1.        , 2.        , 3.        ],\n",
              "       [0.79264741, 0.38122219, 0.3185216 ],\n",
              "       [2.        , 3.        , 4.        ]])"
            ]
          },
          "metadata": {
            "tags": []
          },
          "execution_count": 51
        }
      ]
    },
    {
      "cell_type": "code",
      "metadata": {
        "id": "_fZqh6aISgCG",
        "colab_type": "code",
        "outputId": "ed52bfae-d40e-4295-f6c1-4e7c0f85206e",
        "colab": {
          "base_uri": "https://localhost:8080/",
          "height": 67
        }
      },
      "source": [
        "#append a matrix:\n",
        "y = np.random.random((3,1))\n",
        "\n",
        "np.append(x,y,axis=1)"
      ],
      "execution_count": 0,
      "outputs": [
        {
          "output_type": "execute_result",
          "data": {
            "text/plain": [
              "array([[1.        , 2.        , 3.        , 0.25602187],\n",
              "       [0.79264741, 0.38122219, 0.3185216 , 0.85993485],\n",
              "       [2.        , 3.        , 4.        , 0.56685605]])"
            ]
          },
          "metadata": {
            "tags": []
          },
          "execution_count": 53
        }
      ]
    },
    {
      "cell_type": "code",
      "metadata": {
        "id": "OeJBEUEmTccL",
        "colab_type": "code",
        "outputId": "52a8c638-6bab-4172-a19b-10c287e7dc8a",
        "colab": {
          "base_uri": "https://localhost:8080/",
          "height": 84
        }
      },
      "source": [
        "y = np.transpose(y)\n",
        "np.append(x,y,axis=0)"
      ],
      "execution_count": 0,
      "outputs": [
        {
          "output_type": "execute_result",
          "data": {
            "text/plain": [
              "array([[1.        , 2.        , 3.        ],\n",
              "       [0.79264741, 0.38122219, 0.3185216 ],\n",
              "       [2.        , 3.        , 4.        ],\n",
              "       [0.25602187, 0.85993485, 0.56685605]])"
            ]
          },
          "metadata": {
            "tags": []
          },
          "execution_count": 54
        }
      ]
    },
    {
      "cell_type": "markdown",
      "metadata": {
        "id": "Dp3C1jTwRCw5",
        "colab_type": "text"
      },
      "source": [
        "### Operation on all the entries:"
      ]
    },
    {
      "cell_type": "code",
      "metadata": {
        "id": "FFISjSKCRCTg",
        "colab_type": "code",
        "outputId": "fa9bfc3f-982c-4d5a-b67c-081d1f33b1c7",
        "colab": {
          "base_uri": "https://localhost:8080/",
          "height": 319
        }
      },
      "source": [
        "print(x/2)\n",
        "print(x+2)\n",
        "print(x**2)\n",
        "print(np.sin(x))\n",
        "print(1/x)\n",
        "print(np.exp(x))"
      ],
      "execution_count": 0,
      "outputs": [
        {
          "output_type": "stream",
          "text": [
            "[[0.5       1.        1.5      ]\n",
            " [0.3963237 0.1906111 0.1592608]\n",
            " [1.        1.5       2.       ]]\n",
            "[[3.         4.         5.        ]\n",
            " [2.79264741 2.38122219 2.3185216 ]\n",
            " [4.         5.         6.        ]]\n",
            "[[ 1.          4.          9.        ]\n",
            " [ 0.62828991  0.14533036  0.10145601]\n",
            " [ 4.          9.         16.        ]]\n",
            "[[ 0.84147098  0.90929743  0.14112001]\n",
            " [ 0.71221415  0.3720552   0.31316287]\n",
            " [ 0.90929743  0.14112001 -0.7568025 ]]\n",
            "[[1.         0.5        0.33333333]\n",
            " [1.26159499 2.62314216 3.13950449]\n",
            " [0.5        0.33333333 0.25      ]]\n",
            "[[ 2.71828183  7.3890561  20.08553692]\n",
            " [ 2.20923745  1.46407287  1.37509333]\n",
            " [ 7.3890561  20.08553692 54.59815003]]\n"
          ],
          "name": "stdout"
        }
      ]
    },
    {
      "cell_type": "markdown",
      "metadata": {
        "id": "9wTaPGRqUyTa",
        "colab_type": "text"
      },
      "source": [
        "### Aggregate functions:"
      ]
    },
    {
      "cell_type": "code",
      "metadata": {
        "id": "GuuI2yLBVHj9",
        "colab_type": "code",
        "outputId": "d580440c-6416-4cb2-cd2d-8d8234704f1d",
        "colab": {
          "base_uri": "https://localhost:8080/",
          "height": 101
        }
      },
      "source": [
        "#Aggregate functions:\n",
        "print(np.min(x,axis=0))\n",
        "print(np.max(x,axis=1))\n",
        "print(np.sum(x,axis=1))\n",
        "print(np.mean(x,axis=0))\n",
        "print(np.std(x,axis=0))"
      ],
      "execution_count": 0,
      "outputs": [
        {
          "output_type": "stream",
          "text": [
            "[0.79264741 0.38122219 0.3185216 ]\n",
            "[3.         0.79264741 4.        ]\n",
            "[6.        1.4923912 9.       ]\n",
            "[1.2642158  1.79374073 2.4395072 ]\n",
            "[0.52711957 1.07901389 1.55433478]\n"
          ],
          "name": "stdout"
        }
      ]
    },
    {
      "cell_type": "code",
      "metadata": {
        "id": "zpP0otnzVeBh",
        "colab_type": "code",
        "outputId": "c2110507-0c98-4a6f-f055-1936d6637fa1",
        "colab": {
          "base_uri": "https://localhost:8080/",
          "height": 34
        }
      },
      "source": [
        "#Arguments of aggregate functions:\n",
        "print(np.argmax(x,axis=0))"
      ],
      "execution_count": 0,
      "outputs": [
        {
          "output_type": "stream",
          "text": [
            "[2 2 2]\n"
          ],
          "name": "stdout"
        }
      ]
    },
    {
      "cell_type": "markdown",
      "metadata": {
        "id": "sNDoCd6uVpDh",
        "colab_type": "text"
      },
      "source": [
        "### Bitmasks:"
      ]
    },
    {
      "cell_type": "code",
      "metadata": {
        "id": "WQARFGASVuTh",
        "colab_type": "code",
        "outputId": "fdde98d7-ca89-479c-ef21-5655a9971ed4",
        "colab": {
          "base_uri": "https://localhost:8080/",
          "height": 67
        }
      },
      "source": [
        "#A bit mask is a question (True/False) about the matrix:\n",
        "\n",
        "x<3"
      ],
      "execution_count": 0,
      "outputs": [
        {
          "output_type": "execute_result",
          "data": {
            "text/plain": [
              "array([[ True,  True, False],\n",
              "       [ True,  True,  True],\n",
              "       [ True, False, False]])"
            ]
          },
          "metadata": {
            "tags": []
          },
          "execution_count": 61
        }
      ]
    },
    {
      "cell_type": "code",
      "metadata": {
        "id": "uKtiRlUHWt_S",
        "colab_type": "code",
        "outputId": "3678c4e1-4aa5-4e34-d23f-5b36a82f5cf2",
        "colab": {
          "base_uri": "https://localhost:8080/",
          "height": 67
        }
      },
      "source": [
        "#We can aggregate bitmasks with &, |, ^\n",
        "bitm = ((x<3)&(x>1))\n",
        "bitm"
      ],
      "execution_count": 0,
      "outputs": [
        {
          "output_type": "execute_result",
          "data": {
            "text/plain": [
              "array([[False,  True, False],\n",
              "       [False, False, False],\n",
              "       [ True, False, False]])"
            ]
          },
          "metadata": {
            "tags": []
          },
          "execution_count": 65
        }
      ]
    },
    {
      "cell_type": "code",
      "metadata": {
        "id": "JL6c-vL_W05o",
        "colab_type": "code",
        "outputId": "da1958c5-06d2-4467-9bdb-9735d83eb74c",
        "colab": {
          "base_uri": "https://localhost:8080/",
          "height": 34
        }
      },
      "source": [
        "#In order to know how many of this elements are there:\n",
        "np.sum(bitm)"
      ],
      "execution_count": 0,
      "outputs": [
        {
          "output_type": "execute_result",
          "data": {
            "text/plain": [
              "2"
            ]
          },
          "metadata": {
            "tags": []
          },
          "execution_count": 66
        }
      ]
    },
    {
      "cell_type": "code",
      "metadata": {
        "id": "vM3gFpwXXdVy",
        "colab_type": "code",
        "outputId": "b4ce49e4-6e05-4845-b430-9c34f3c35302",
        "colab": {
          "base_uri": "https://localhost:8080/",
          "height": 34
        }
      },
      "source": [
        "#To know the positions where the bitmask is true\n",
        "w = np.where(bitm)\n",
        "w"
      ],
      "execution_count": 0,
      "outputs": [
        {
          "output_type": "execute_result",
          "data": {
            "text/plain": [
              "(array([0, 2]), array([1, 0]))"
            ]
          },
          "metadata": {
            "tags": []
          },
          "execution_count": 70
        }
      ]
    },
    {
      "cell_type": "markdown",
      "metadata": {
        "id": "YwcP64kAVug8",
        "colab_type": "text"
      },
      "source": [
        "## Plots:"
      ]
    },
    {
      "cell_type": "markdown",
      "metadata": {
        "id": "EjRxaZl0wXnY",
        "colab_type": "text"
      },
      "source": [
        "### x vs y"
      ]
    },
    {
      "cell_type": "code",
      "metadata": {
        "id": "ep7TPj7xmd15",
        "colab_type": "code",
        "colab": {}
      },
      "source": [
        "import matplotlib.pyplot as plt\n",
        "%matplotlib inline"
      ],
      "execution_count": 0,
      "outputs": []
    },
    {
      "cell_type": "code",
      "metadata": {
        "id": "as8Jf1jZmrsl",
        "colab_type": "code",
        "colab": {}
      },
      "source": [
        "x = np.arange(0,10,0.1)\n",
        "y = np.sin(x)"
      ],
      "execution_count": 0,
      "outputs": []
    },
    {
      "cell_type": "code",
      "metadata": {
        "id": "ptUwjFU4m14u",
        "colab_type": "code",
        "outputId": "558ae76b-4c91-4bbe-f0ec-d28348c9386c",
        "colab": {
          "base_uri": "https://localhost:8080/",
          "height": 269
        }
      },
      "source": [
        "#To make a simple graph between two variables:\n",
        "plt.plot(x,y);"
      ],
      "execution_count": 0,
      "outputs": [
        {
          "output_type": "display_data",
          "data": {
            "image/png": "[encoded data removed]",
            "text/plain": [
              "<Figure size 432x288 with 1 Axes>"
            ]
          },
          "metadata": {
            "tags": []
          }
        }
      ]
    },
    {
      "cell_type": "code",
      "metadata": {
        "id": "VgL9rHxim6B-",
        "colab_type": "code",
        "outputId": "e0256ce9-2083-447a-986b-5041261a04c4",
        "colab": {
          "base_uri": "https://localhost:8080/",
          "height": 295
        }
      },
      "source": [
        "y_alt = np.cos(x)\n",
        "\n",
        "#We can make multiple graphs over the same figure\n",
        "plt.plot(x,y)\n",
        "plt.plot(x,y_alt,color='r')\n",
        "plt.xlabel('x values')\n",
        "plt.ylabel('y values')\n",
        "plt.title('sine and cosine');"
      ],
      "execution_count": 0,
      "outputs": [
        {
          "output_type": "display_data",
          "data": {
            "image/png": "[encoded data removed]",
            "text/plain": [
              "<Figure size 432x288 with 1 Axes>"
            ]
          },
          "metadata": {
            "tags": []
          }
        }
      ]
    },
    {
      "cell_type": "markdown",
      "metadata": {
        "id": "dKAWJjKbwZo4",
        "colab_type": "text"
      },
      "source": [
        "### Figures:\n",
        "In matplotlib the basic structure is the figure command, which is a class. So we can use it to have multiple plots."
      ]
    },
    {
      "cell_type": "code",
      "metadata": {
        "id": "MAsnGRsGr642",
        "colab_type": "code",
        "outputId": "3bd42166-1e3d-4dff-838c-8f8207c68ea9",
        "colab": {
          "base_uri": "https://localhost:8080/",
          "height": 521
        }
      },
      "source": [
        "fig1 = plt.figure()\n",
        "plt.plot(x,y)\n",
        "\n",
        "fig2 = plt.figure()\n",
        "plt.plot(x,y_alt);"
      ],
      "execution_count": 0,
      "outputs": [
        {
          "output_type": "display_data",
          "data": {
            "image/png": "[encoded data removed]",
            "text/plain": [
              "<Figure size 432x288 with 1 Axes>"
            ]
          },
          "metadata": {
            "tags": []
          }
        },
        {
          "output_type": "display_data",
          "data": {
            "image/png": "[encoded data removed]",
            "text/plain": [
              "<Figure size 432x288 with 1 Axes>"
            ]
          },
          "metadata": {
            "tags": []
          }
        }
      ]
    },
    {
      "cell_type": "code",
      "metadata": {
        "id": "bOVAHYeZZAYE",
        "colab_type": "code",
        "outputId": "1ab0892d-ce6a-4051-f98c-3ff91f3ed394",
        "colab": {
          "base_uri": "https://localhost:8080/",
          "height": 269
        }
      },
      "source": [
        "#Notice that we represent the graphs in two different places\n",
        "#But if we want to represent the graph over the same figure:\n",
        "\n",
        "plt.figure(figsize = (10,4))\n",
        "#Now we are working over this figure\n",
        "\n",
        "#With this command we specify the rows, cols and position\n",
        "plt.subplot(1,2,1)\n",
        "\n",
        "plt.plot(x,y)\n",
        "\n",
        "plt.subplot(1,2,2)\n",
        "plt.plot(x,y_alt);\n",
        "\n",
        "#print(np.pi)"
      ],
      "execution_count": 0,
      "outputs": [
        {
          "output_type": "display_data",
          "data": {
            "image/png": "[encoded data removed]",
            "text/plain": [
              "<Figure size 720x288 with 2 Axes>"
            ]
          },
          "metadata": {
            "tags": []
          }
        }
      ]
    },
    {
      "cell_type": "markdown",
      "metadata": {
        "id": "ofuqaGtu1LUi",
        "colab_type": "text"
      },
      "source": [
        "### Save images:"
      ]
    },
    {
      "cell_type": "code",
      "metadata": {
        "id": "BcfHFwpj0n68",
        "colab_type": "code",
        "outputId": "74229358-1fdf-47c3-9bf8-1b6cdc993783",
        "colab": {
          "base_uri": "https://localhost:8080/",
          "height": 269
        }
      },
      "source": [
        "#We plot\n",
        "plt.plot(x,y)\n",
        "\n",
        "#We save the image\n",
        "plt.savefig('output.png', dpi=300, bbox_inches='tight');"
      ],
      "execution_count": 0,
      "outputs": [
        {
          "output_type": "display_data",
          "data": {
            "image/png": "[encoded data removed]",
            "text/plain": [
              "<Figure size 432x288 with 1 Axes>"
            ]
          },
          "metadata": {
            "tags": []
          }
        }
      ]
    },
    {
      "cell_type": "code",
      "metadata": {
        "id": "LlwPpfaa1XaB",
        "colab_type": "code",
        "outputId": "450aaee2-905b-4229-b821-059298512314",
        "colab": {
          "base_uri": "https://localhost:8080/",
          "height": 267
        }
      },
      "source": [
        "#You most likely don't need this but, charge image:\n",
        "\n",
        "import matplotlib.image as mpimg\n",
        "img=mpimg.imread('output.png')\n",
        "imgplot=plt.imshow(img)\n",
        "plt.show()"
      ],
      "execution_count": 0,
      "outputs": [
        {
          "output_type": "display_data",
          "data": {
            "image/png": "[encoded data removed]",
            "text/plain": [
              "<Figure size 432x288 with 1 Axes>"
            ]
          },
          "metadata": {
            "tags": []
          }
        }
      ]
    },
    {
      "cell_type": "markdown",
      "metadata": {
        "id": "jropk4t52CWL",
        "colab_type": "text"
      },
      "source": [
        "### Legend and xticks:"
      ]
    },
    {
      "cell_type": "code",
      "metadata": {
        "id": "RNuDN3xh1hFd",
        "colab_type": "code",
        "outputId": "a467d1a5-2fea-4a87-b644-9a18cfb2f8f1",
        "colab": {
          "base_uri": "https://localhost:8080/",
          "height": 286
        }
      },
      "source": [
        "plt.plot(x,y)\n",
        "plt.plot(x,y_alt,'r')\n",
        "\n",
        "#We can specify the legend with an array\n",
        "plt.legend(['sin','cos']);"
      ],
      "execution_count": 0,
      "outputs": [
        {
          "output_type": "execute_result",
          "data": {
            "text/plain": [
              "<matplotlib.legend.Legend at 0x7f5d5a13ff60>"
            ]
          },
          "metadata": {
            "tags": []
          },
          "execution_count": 120
        },
        {
          "output_type": "display_data",
          "data": {
            "image/png": "[encoded data removed]",
            "text/plain": [
              "<Figure size 432x288 with 1 Axes>"
            ]
          },
          "metadata": {
            "tags": []
          }
        }
      ]
    },
    {
      "cell_type": "code",
      "metadata": {
        "id": "U7pOLkuF2Wyn",
        "colab_type": "code",
        "outputId": "a074d5ce-e5f4-4529-d689-4ad898bad931",
        "colab": {
          "base_uri": "https://localhost:8080/",
          "height": 269
        }
      },
      "source": [
        "plt.plot(x,y)\n",
        "\n",
        "k = 1\n",
        "x_aux = np.arange(0,2*np.pi + k, k)\n",
        "\n",
        "plt.xticks(x_aux,x_aux + 2*3.1);"
      ],
      "execution_count": 0,
      "outputs": [
        {
          "output_type": "display_data",
          "data": {
            "image/png": "[encoded data removed]",
            "text/plain": [
              "<Figure size 432x288 with 1 Axes>"
            ]
          },
          "metadata": {
            "tags": []
          }
        }
      ]
    },
    {
      "cell_type": "markdown",
      "metadata": {
        "id": "AUGsxDkZ3YEA",
        "colab_type": "text"
      },
      "source": [
        "### Histogram and Colormap\n",
        "Reference:\n",
        "https://stackoverflow.com/questions/40887753/display-matrix-values-and-colormap"
      ]
    },
    {
      "cell_type": "code",
      "metadata": {
        "id": "nsUe4_n23ehd",
        "colab_type": "code",
        "outputId": "5ad96a44-9a5e-461a-ed4a-6436c5e1e494",
        "colab": {
          "base_uri": "https://localhost:8080/",
          "height": 269
        }
      },
      "source": [
        "x = np.random.normal(2,3,1000)\n",
        "\n",
        "#To create a histogram\n",
        "plt.hist(x);"
      ],
      "execution_count": 0,
      "outputs": [
        {
          "output_type": "display_data",
          "data": {
            "image/png": "[encoded data removed]",
            "text/plain": [
              "<Figure size 432x288 with 1 Axes>"
            ]
          },
          "metadata": {
            "tags": []
          }
        }
      ]
    },
    {
      "cell_type": "code",
      "metadata": {
        "id": "71qxv6a_3lvA",
        "colab_type": "code",
        "outputId": "4205a49b-6b9b-4029-be95-e0eb4ea394a9",
        "colab": {
          "base_uri": "https://localhost:8080/",
          "height": 269
        }
      },
      "source": [
        "#To indicate the number of bins:\n",
        "plt.hist(x,bins=20);"
      ],
      "execution_count": 0,
      "outputs": [
        {
          "output_type": "display_data",
          "data": {
            "image/png": "[encoded data removed]",
            "text/plain": [
              "<Figure size 432x288 with 1 Axes>"
            ]
          },
          "metadata": {
            "tags": []
          }
        }
      ]
    },
    {
      "cell_type": "code",
      "metadata": {
        "id": "R7gPf_Wr75HZ",
        "colab_type": "code",
        "outputId": "21e83096-de3b-4265-b2db-938bf2e446af",
        "colab": {
          "base_uri": "https://localhost:8080/",
          "height": 269
        }
      },
      "source": [
        "#Colormap:\n",
        "import numpy as np\n",
        "import matplotlib.pyplot as plt\n",
        "\n",
        "fig, ax = plt.subplots()\n",
        "\n",
        "min_val, max_val = 0, 15\n",
        "\n",
        "intersection_matrix = np.random.randint(0,10,(max_val, max_val))\n",
        "\n",
        "ax.matshow(intersection_matrix, cmap=plt.cm.Blues)\n",
        "\n",
        "for i in np.arange(15):\n",
        "    for j in np.arange(15):\n",
        "        c = intersection_matrix[j,i]\n",
        "        ax.text(i, j, str(c), va='center', ha='center')"
      ],
      "execution_count": 0,
      "outputs": [
        {
          "output_type": "display_data",
          "data": {
            "image/png": "[encoded data removed]",
            "text/plain": [
              "<Figure size 432x288 with 1 Axes>"
            ]
          },
          "metadata": {
            "tags": []
          }
        }
      ]
    },
    {
      "cell_type": "markdown",
      "metadata": {
        "id": "e5oL3zp0ZBFp",
        "colab_type": "text"
      },
      "source": [
        "# Regression and Gradient descent:"
      ]
    },
    {
      "cell_type": "markdown",
      "metadata": {
        "id": "NvPtDgJTZWEM",
        "colab_type": "text"
      },
      "source": [
        "## Cost Function:"
      ]
    },
    {
      "cell_type": "code",
      "metadata": {
        "id": "lv17KdpFZN35",
        "colab_type": "code",
        "colab": {}
      },
      "source": [
        "def cost_func(y,y_est):\n",
        "  \"\"\"We assume that both have the same dimension mx1 \"\"\"\n",
        "  m = y.shape[0]\n",
        "  return sum((y - y_est)**2)/(2 * m)"
      ],
      "execution_count": 0,
      "outputs": []
    },
    {
      "cell_type": "code",
      "metadata": {
        "id": "SQvp59L-atJN",
        "colab_type": "code",
        "outputId": "6606f844-5da1-4a8d-ae70-7c777ed4f6d3",
        "colab": {
          "base_uri": "https://localhost:8080/",
          "height": 118
        }
      },
      "source": [
        "y = np.array([[1],[2],[3]])\n",
        "y_est = np.array([[1.1],[2.1],[3.1]])\n",
        "\n",
        "print(y_est)\n",
        "print(y)"
      ],
      "execution_count": 0,
      "outputs": [
        {
          "output_type": "stream",
          "text": [
            "[[1.1]\n",
            " [2.1]\n",
            " [3.1]]\n",
            "[[1]\n",
            " [2]\n",
            " [3]]\n"
          ],
          "name": "stdout"
        }
      ]
    },
    {
      "cell_type": "code",
      "metadata": {
        "id": "I1SxVp-8bz2s",
        "colab_type": "code",
        "outputId": "1fd96084-0eb4-4fd4-d34c-e84227baa7ad",
        "colab": {
          "base_uri": "https://localhost:8080/",
          "height": 34
        }
      },
      "source": [
        "cost_func(y,y_est)"
      ],
      "execution_count": 0,
      "outputs": [
        {
          "output_type": "execute_result",
          "data": {
            "text/plain": [
              "array([0.005])"
            ]
          },
          "metadata": {
            "tags": []
          },
          "execution_count": 82
        }
      ]
    },
    {
      "cell_type": "code",
      "metadata": {
        "id": "gYGDSx0Db1vE",
        "colab_type": "code",
        "colab": {}
      },
      "source": [
        ""
      ],
      "execution_count": 0,
      "outputs": []
    }
  ]
}