{
  "nbformat": 4,
  "nbformat_minor": 0,
  "metadata": {
    "colab": {
      "name": "Lecture 1-6",
      "version": "0.3.2",
      "provenance": [],
      "collapsed_sections": [
        "6Ud8udHRudhD"
      ]
    },
    "kernelspec": {
      "name": "python3",
      "display_name": "Python 3"
    }
  },
  "cells": [
    {
      "cell_type": "markdown",
      "metadata": {
        "id": "mWA8YiQkuh1n",
        "colab_type": "text"
      },
      "source": [
        "# Linear Algebra\n",
        "\n"
      ]
    },
    {
      "cell_type": "markdown",
      "metadata": {
        "id": "U7x2hgAB_l0B",
        "colab_type": "text"
      },
      "source": [
        "## Basic manipulation of matrices:"
      ]
    },
    {
      "cell_type": "code",
      "metadata": {
        "id": "9F2MfEeUqr7x",
        "colab_type": "code",
        "colab": {}
      },
      "source": [
        "import numpy as np"
      ],
      "execution_count": 0,
      "outputs": []
    },
    {
      "cell_type": "code",
      "metadata": {
        "id": "VAH73x7FqvZF",
        "colab_type": "code",
        "outputId": "17f4fcf0-c5ea-4156-86be-bd88e31c26bc",
        "colab": {
          "base_uri": "https://localhost:8080/",
          "height": 84
        }
      },
      "source": [
        "#To create matrices:\n",
        "l = [[1,2,3],[1,2,3],[2,3,4]]\n",
        "a = np.array(l, dtype = int)\n",
        "print(a)\n",
        "print(a.shape)"
      ],
      "execution_count": 0,
      "outputs": [
        {
          "output_type": "stream",
          "text": [
            "[[1 2 3]\n",
            " [1 2 3]\n",
            " [2 3 4]]\n",
            "(3, 3)\n"
          ],
          "name": "stdout"
        }
      ]
    },
    {
      "cell_type": "code",
      "metadata": {
        "id": "fcBZ13nhq586",
        "colab_type": "code",
        "outputId": "b36e751e-136f-44f1-8e8d-184567bec2ff",
        "colab": {
          "base_uri": "https://localhost:8080/",
          "height": 353
        }
      },
      "source": [
        "#Or to create special matrices:\n",
        "print(np.zeros((3,3,3)))\n",
        "print(np.ones((2,5)))\n",
        "print(np.eye(4))\n",
        "print(np.full((3,3),3))"
      ],
      "execution_count": 0,
      "outputs": [
        {
          "output_type": "stream",
          "text": [
            "[[[0. 0. 0.]\n",
            "  [0. 0. 0.]\n",
            "  [0. 0. 0.]]\n",
            "\n",
            " [[0. 0. 0.]\n",
            "  [0. 0. 0.]\n",
            "  [0. 0. 0.]]\n",
            "\n",
            " [[0. 0. 0.]\n",
            "  [0. 0. 0.]\n",
            "  [0. 0. 0.]]]\n",
            "[[1. 1. 1. 1. 1.]\n",
            " [1. 1. 1. 1. 1.]]\n",
            "[[1. 0. 0. 0.]\n",
            " [0. 1. 0. 0.]\n",
            " [0. 0. 1. 0.]\n",
            " [0. 0. 0. 1.]]\n",
            "[[3 3 3]\n",
            " [3 3 3]\n",
            " [3 3 3]]\n"
          ],
          "name": "stdout"
        }
      ]
    },
    {
      "cell_type": "code",
      "metadata": {
        "id": "Diy9iKCcq7Ez",
        "colab_type": "code",
        "outputId": "139d56e7-7192-4b4f-bc82-45906b517bcd",
        "colab": {
          "base_uri": "https://localhost:8080/",
          "height": 168
        }
      },
      "source": [
        "#Random:\n",
        "#Uniform distribution [0,1)\n",
        "print(np.random.random((2,3)))\n",
        "\n",
        "#Uniform in [k,b)\n",
        "k = 12\n",
        "b = 14\n",
        "print(k+ (b-k)*(np.random.random((2,3))))\n",
        "\n",
        "#integers: [l,h),sz\n",
        "print(np.random.randint(1,3,(3,3)))\n",
        "\n",
        "#Normal distribution:\n",
        "#(mean, std, dim)\n",
        "print(np.random.normal(2,3,(2,3)))\n"
      ],
      "execution_count": 0,
      "outputs": [
        {
          "output_type": "stream",
          "text": [
            "[[0.31456061 0.37693734 0.70573696]\n",
            " [0.08024172 0.51335    0.50331112]]\n",
            "[[13.38663092 13.73106154 12.6083846 ]\n",
            " [13.13158881 13.78203405 12.70770313]]\n",
            "[[1 1 2]\n",
            " [1 1 1]\n",
            " [1 2 2]]\n",
            "[[0.5631315  1.09335317 2.29320022]\n",
            " [5.22062624 2.4076147  2.13536915]]\n"
          ],
          "name": "stdout"
        }
      ]
    },
    {
      "cell_type": "code",
      "metadata": {
        "id": "_F9RyWrTsGFa",
        "colab_type": "code",
        "outputId": "672add76-f775-4fc5-d449-16a836b7ef2a",
        "colab": {
          "base_uri": "https://localhost:8080/",
          "height": 269
        }
      },
      "source": [
        "#Operations:\n",
        "print(a+a)\n",
        "print(a-2*a)\n",
        "print(a+3)\n",
        "#This give us the product by entry\n",
        "print(a*a)\n",
        "\n",
        "#This give us the product as matrix:\n",
        "a = np.random.random((3,3))\n",
        "b = np.random.random((3,3))\n",
        "np.matmul(a,b)"
      ],
      "execution_count": 0,
      "outputs": [
        {
          "output_type": "stream",
          "text": [
            "[[0.41456491 1.02989098 1.57358371]\n",
            " [1.24740595 0.5316745  1.33736328]\n",
            " [0.01239793 0.27562631 1.30282601]]\n",
            "[[-0.20728246 -0.51494549 -0.78679186]\n",
            " [-0.62370297 -0.26583725 -0.66868164]\n",
            " [-0.00619897 -0.13781316 -0.651413  ]]\n",
            "[[3.20728246 3.51494549 3.78679186]\n",
            " [3.62370297 3.26583725 3.66868164]\n",
            " [3.00619897 3.13781316 3.651413  ]]\n",
            "[[4.29660172e-02 2.65168856e-01 6.19041425e-01]\n",
            " [3.89005399e-01 7.06694425e-02 4.47135136e-01]\n",
            " [3.84271853e-05 1.89924662e-02 4.24338902e-01]]\n"
          ],
          "name": "stdout"
        },
        {
          "output_type": "execute_result",
          "data": {
            "text/plain": [
              "array([[1.15341484, 1.21884754, 0.31248669],\n",
              "       [0.43950244, 0.74036674, 0.12662094],\n",
              "       [0.77557651, 1.67070317, 0.86708922]])"
            ]
          },
          "metadata": {
            "tags": []
          },
          "execution_count": 8
        }
      ]
    },
    {
      "cell_type": "code",
      "metadata": {
        "id": "z1vK8gdewqjK",
        "colab_type": "code",
        "outputId": "6f1d46fe-4124-4e2e-c642-0e44936587ae",
        "colab": {
          "base_uri": "https://localhost:8080/",
          "height": 34
        }
      },
      "source": [
        "#Most of the time, you will run into trouble if you multiply\n",
        "#a np row by a matrix, so use instead: np.dot(a,b)\n",
        "a = np.random.random((3,3))\n",
        "b = np.random.random((3))\n",
        "np.matmul(a,b) #which is the same as a@b"
      ],
      "execution_count": 0,
      "outputs": [
        {
          "output_type": "execute_result",
          "data": {
            "text/plain": [
              "array([0.41446679, 0.76876242, 0.63051487])"
            ]
          },
          "metadata": {
            "tags": []
          },
          "execution_count": 2
        }
      ]
    },
    {
      "cell_type": "code",
      "metadata": {
        "id": "AqmY3bF1s9r5",
        "colab_type": "code",
        "colab": {}
      },
      "source": [
        "#Access a position:\n",
        "print(a[1][2])"
      ],
      "execution_count": 0,
      "outputs": []
    },
    {
      "cell_type": "code",
      "metadata": {
        "id": "g_i_b0aMt1nB",
        "colab_type": "code",
        "outputId": "9ac7dff8-8e61-4fbd-b8db-fe32b9130ca6",
        "colab": {
          "base_uri": "https://localhost:8080/",
          "height": 50
        }
      },
      "source": [
        "#Access multiple positions:\n",
        "print(a[:,2])\n",
        "print(a[2,:])"
      ],
      "execution_count": 0,
      "outputs": [
        {
          "output_type": "stream",
          "text": [
            "[0.23115098 0.00926202 0.90260273]\n",
            "[0.02731712 0.97960475 0.90260273]\n"
          ],
          "name": "stdout"
        }
      ]
    },
    {
      "cell_type": "code",
      "metadata": {
        "id": "-cPiemYzt73J",
        "colab_type": "code",
        "outputId": "1e1dacd5-4eea-4642-e5ea-4f6a0b9b43cc",
        "colab": {
          "base_uri": "https://localhost:8080/",
          "height": 50
        }
      },
      "source": [
        "#Also, we can select the positions:\n",
        "print(a[[0,2],:])"
      ],
      "execution_count": 0,
      "outputs": [
        {
          "output_type": "stream",
          "text": [
            "[[0.96433292 0.32798834 0.23115098]\n",
            " [0.02731712 0.97960475 0.90260273]]\n"
          ],
          "name": "stdout"
        }
      ]
    },
    {
      "cell_type": "markdown",
      "metadata": {
        "id": "6Ud8udHRudhD",
        "colab_type": "text"
      },
      "source": [
        "## Solve linear systems: "
      ]
    },
    {
      "cell_type": "code",
      "metadata": {
        "id": "DEh2O8D-uKCB",
        "colab_type": "code",
        "outputId": "7c46c565-36fa-481d-9f4d-6b8f4aaec085",
        "colab": {
          "base_uri": "https://localhost:8080/",
          "height": 34
        }
      },
      "source": [
        "#Determinant:\n",
        "np.linalg.det(a)"
      ],
      "execution_count": 0,
      "outputs": [
        {
          "output_type": "execute_result",
          "data": {
            "text/plain": [
              "0.554924751963129"
            ]
          },
          "metadata": {
            "tags": []
          },
          "execution_count": 14
        }
      ]
    },
    {
      "cell_type": "code",
      "metadata": {
        "id": "xxrFZqSRuZiB",
        "colab_type": "code",
        "outputId": "32a77602-5006-4fe1-c472-b4602f43f2d6",
        "colab": {
          "base_uri": "https://localhost:8080/",
          "height": 67
        }
      },
      "source": [
        "#solve a linear system:\n",
        "a = np.random.random((3,3))\n",
        "b = np.random.random((3,1))\n",
        "\n",
        "x = np.linalg.solve(a,b)\n",
        "print(x)"
      ],
      "execution_count": 0,
      "outputs": [
        {
          "output_type": "stream",
          "text": [
            "[[ 17.52278575]\n",
            " [ 48.51687754]\n",
            " [-48.3292995 ]]\n"
          ],
          "name": "stdout"
        }
      ]
    },
    {
      "cell_type": "code",
      "metadata": {
        "id": "0DGSxP7juxEI",
        "colab_type": "code",
        "outputId": "511218fa-5795-4bf7-bd4f-3f5fdbb5c638",
        "colab": {
          "base_uri": "https://localhost:8080/",
          "height": 118
        }
      },
      "source": [
        "#Make sure:\n",
        "print(np.matmul(a,x))\n",
        "print(b)"
      ],
      "execution_count": 0,
      "outputs": [
        {
          "output_type": "stream",
          "text": [
            "[[0.56521365]\n",
            " [0.94397658]\n",
            " [0.1029123 ]]\n",
            "[[0.56521365]\n",
            " [0.94397658]\n",
            " [0.1029123 ]]\n"
          ],
          "name": "stdout"
        }
      ]
    },
    {
      "cell_type": "code",
      "metadata": {
        "id": "0mclipkfu3zx",
        "colab_type": "code",
        "outputId": "3a711705-1578-430c-c967-e6bcdf946c6f",
        "colab": {
          "base_uri": "https://localhost:8080/",
          "height": 67
        }
      },
      "source": [
        "#Alternative:\n",
        "ainv = np.linalg.inv(a)\n",
        "#It is recommended to use np.linalg.pinv(a)\n",
        "#You will discover why in future lessons\n",
        "xalt = np.matmul(ainv,b)\n",
        "print(xalt)"
      ],
      "execution_count": 0,
      "outputs": [
        {
          "output_type": "stream",
          "text": [
            "[[ 17.52278575]\n",
            " [ 48.51687754]\n",
            " [-48.3292995 ]]\n"
          ],
          "name": "stdout"
        }
      ]
    },
    {
      "cell_type": "code",
      "metadata": {
        "id": "SJAT63ALvJh4",
        "colab_type": "code",
        "outputId": "61d5a563-3859-406e-a411-f33eb7205cab",
        "colab": {
          "base_uri": "https://localhost:8080/",
          "height": 34
        }
      },
      "source": [
        "#transpose:\n",
        "np.transpose(b)"
      ],
      "execution_count": 0,
      "outputs": [
        {
          "output_type": "execute_result",
          "data": {
            "text/plain": [
              "array([[0.56521365, 0.94397658, 0.1029123 ]])"
            ]
          },
          "metadata": {
            "tags": []
          },
          "execution_count": 22
        }
      ]
    },
    {
      "cell_type": "markdown",
      "metadata": {
        "id": "_PQw7pfdwWpE",
        "colab_type": "text"
      },
      "source": [
        "## Constants and distribution of data:"
      ]
    },
    {
      "cell_type": "code",
      "metadata": {
        "id": "SCQ8rvvYvwIA",
        "colab_type": "code",
        "outputId": "38dbd86e-db3e-4399-8709-f4a460eb7e97",
        "colab": {
          "base_uri": "https://localhost:8080/",
          "height": 34
        }
      },
      "source": [
        "# np.arange(low,top[,inc)\n",
        "\n",
        "np.arange(1,5,2)"
      ],
      "execution_count": 0,
      "outputs": [
        {
          "output_type": "execute_result",
          "data": {
            "text/plain": [
              "array([1, 3])"
            ]
          },
          "metadata": {
            "tags": []
          },
          "execution_count": 23
        }
      ]
    },
    {
      "cell_type": "code",
      "metadata": {
        "id": "hNNfabwkdX15",
        "colab_type": "code",
        "outputId": "b7690533-53e2-49a0-d07b-11ee24463f3c",
        "colab": {
          "base_uri": "https://localhost:8080/",
          "height": 52
        }
      },
      "source": [
        "np.linspace(1,5,10)"
      ],
      "execution_count": 0,
      "outputs": [
        {
          "output_type": "execute_result",
          "data": {
            "text/plain": [
              "array([1.        , 1.44444444, 1.88888889, 2.33333333, 2.77777778,\n",
              "       3.22222222, 3.66666667, 4.11111111, 4.55555556, 5.        ])"
            ]
          },
          "metadata": {
            "tags": []
          },
          "execution_count": 4
        }
      ]
    },
    {
      "cell_type": "code",
      "metadata": {
        "id": "RjLp383_weyH",
        "colab_type": "code",
        "outputId": "8039e8ef-a8d9-48b3-a8c3-b0dae1ef5be5",
        "colab": {
          "base_uri": "https://localhost:8080/",
          "height": 34
        }
      },
      "source": [
        "np.pi, np.inf"
      ],
      "execution_count": 0,
      "outputs": [
        {
          "output_type": "execute_result",
          "data": {
            "text/plain": [
              "(3.141592653589793, inf)"
            ]
          },
          "metadata": {
            "tags": []
          },
          "execution_count": 24
        }
      ]
    },
    {
      "cell_type": "markdown",
      "metadata": {
        "id": "4P7Mw0MonwQ-",
        "colab_type": "text"
      },
      "source": [
        "## PA = LU"
      ]
    },
    {
      "cell_type": "code",
      "metadata": {
        "id": "e1e9Eiy4wi8g",
        "colab_type": "code",
        "colab": {}
      },
      "source": [
        "from scipy import linalg\n",
        "import numpy as np\n",
        "\n",
        "a = np.random.random((3,3))\n",
        "\n",
        "#matrix, \n",
        "p,l,u = linalg.lu(a)"
      ],
      "execution_count": 0,
      "outputs": []
    },
    {
      "cell_type": "code",
      "metadata": {
        "id": "XKG60h5voGAY",
        "colab_type": "code",
        "colab": {
          "base_uri": "https://localhost:8080/",
          "height": 173
        },
        "outputId": "4859af42-8b35-4d03-ebd0-ff9aa8daec45"
      },
      "source": [
        "print(p)\n",
        "print(l)\n",
        "print(u)"
      ],
      "execution_count": 5,
      "outputs": [
        {
          "output_type": "stream",
          "text": [
            "[[1. 0. 0.]\n",
            " [0. 1. 0.]\n",
            " [0. 0. 1.]]\n",
            "[[ 1.          0.          0.        ]\n",
            " [ 0.08045088  1.          0.        ]\n",
            " [ 0.39744308 -0.01097413  1.        ]]\n",
            "[[0.68547515 0.82171289 0.311878  ]\n",
            " [0.         0.35575009 0.5688184 ]\n",
            " [0.         0.         0.5542825 ]]\n"
          ],
          "name": "stdout"
        }
      ]
    },
    {
      "cell_type": "code",
      "metadata": {
        "id": "UW7aQFlloWhs",
        "colab_type": "code",
        "colab": {
          "base_uri": "https://localhost:8080/",
          "height": 173
        },
        "outputId": "d9b22239-b6c9-4985-b555-17b2b0d68cad"
      },
      "source": [
        "a = np.array([[1,2,3],[0,1,1],[2,2,2]])\n",
        "p,l,u = linalg.lu(a)\n",
        "print(p)\n",
        "print(l)\n",
        "print(u)"
      ],
      "execution_count": 6,
      "outputs": [
        {
          "output_type": "stream",
          "text": [
            "[[0. 0. 1.]\n",
            " [0. 1. 0.]\n",
            " [1. 0. 0.]]\n",
            "[[1.  0.  0. ]\n",
            " [0.  1.  0. ]\n",
            " [0.5 1.  1. ]]\n",
            "[[2. 2. 2.]\n",
            " [0. 1. 1.]\n",
            " [0. 0. 1.]]\n"
          ],
          "name": "stdout"
        }
      ]
    },
    {
      "cell_type": "code",
      "metadata": {
        "id": "QVCmHEd9ox0b",
        "colab_type": "code",
        "colab": {}
      },
      "source": [
        ""
      ],
      "execution_count": 0,
      "outputs": []
    }
  ]
}
