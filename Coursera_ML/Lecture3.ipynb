{
 "cells": [
  {
   "cell_type": "code",
   "execution_count": null,
   "metadata": {
    "collapsed": true
   },
   "outputs": [],
   "source": []
  },
  {
   "cell_type": "code",
   "execution_count": 84,
   "metadata": {
    "collapsed": true
   },
   "outputs": [],
   "source": [
    "import numpy as np\n",
    "import pandas as pd\n",
    "import matplotlib.pyplot as plt\n",
    "import os\n",
    "%matplotlib inline"
   ]
  },
  {
   "cell_type": "markdown",
   "metadata": {},
   "source": [
    "# Logistic Regression:"
   ]
  },
  {
   "cell_type": "markdown",
   "metadata": {},
   "source": [
    "## Visualizing the data:"
   ]
  },
  {
   "cell_type": "code",
   "execution_count": 85,
   "metadata": {
    "collapsed": true
   },
   "outputs": [],
   "source": [
    "data = pd.read_csv(os.path.join('Data', 'ex2data1.txt'), delimiter=',',header=None).values\n",
    "X, y = data[:, 0:2], data[:, 2]"
   ]
  },
  {
   "cell_type": "code",
   "execution_count": 86,
   "metadata": {
    "collapsed": true
   },
   "outputs": [],
   "source": [
    "def plotData(X, y):\n",
    "    #From this function we can learn how to graph when dealing with\n",
    "    #multiple features in the plane\n",
    "    b1 = (y==0)\n",
    "    b2 = (y==1)\n",
    "    plt.scatter(X[b1,0],X[b1,1],color = 'r')\n",
    "    plt.scatter(X[b2,0],X[b2,1],color = 'g')\n",
    "    plt.xlabel('Exam 1 score')\n",
    "    plt.ylabel('Exam 2 score')"
   ]
  },
  {
   "cell_type": "code",
   "execution_count": 87,
   "metadata": {},
   "outputs": [
    {
     "data": {
      "image/png": "[encoded data removed]",
      "text/plain": [
       "<matplotlib.figure.Figure at 0x7faa1bc727b8>"
      ]
     },
     "metadata": {},
     "output_type": "display_data"
    }
   ],
   "source": [
    "plotData(X,y)\n",
    "plt.legend(['Admitted','Not Admitted']);"
   ]
  },
  {
   "cell_type": "markdown",
   "metadata": {},
   "source": [
    "## Implementation:"
   ]
  },
  {
   "cell_type": "code",
   "execution_count": 88,
   "metadata": {},
   "outputs": [],
   "source": [
    "def sigmoid(z):\n",
    "    #We implement the sigmoid function\n",
    "    return 1/(1+np.exp(-z))"
   ]
  },
  {
   "cell_type": "code",
   "execution_count": 89,
   "metadata": {},
   "outputs": [],
   "source": [
    "#We charge the data again just to avoid conflicts when adding the\n",
    "#extra column of ones:\n",
    "data = pd.read_csv(os.path.join('Data', 'ex2data1.txt'), delimiter=',',header=None).values\n",
    "X, y = data[:, 0:2], data[:, 2]\n",
    "\n",
    "#add the new column:\n",
    "X = np.append(np.ones((X.shape[0],1)),X,axis=1)"
   ]
  },
  {
   "cell_type": "code",
   "execution_count": 217,
   "metadata": {
    "collapsed": true
   },
   "outputs": [],
   "source": [
    "#Now the cost function (same as in linear regression)\n",
    "def costFunc(theta,x,y):\n",
    "    #We have to return both the cost and the gradient\n",
    "    \n",
    "    #Let's first compute the cost:\n",
    "    J = 0\n",
    "    n = x.shape[0]\n",
    "    aux = sigmoid(x@theta)\n",
    "    \n",
    "    J = -(y@np.log(aux)+(1-y)@np.log(1-aux))/(n)\n",
    "    \n",
    "    #Let's compute the gradient:\n",
    "    gradient = x.transpose()@(aux-y)/n\n",
    "    \n",
    "    return J, gradient"
   ]
  },
  {
   "cell_type": "markdown",
   "metadata": {},
   "source": [
    "After this you can run the classic gradient descent using some $\\alpha$ and controlling the number of iteretaions. Instead we can use the `minimize` function from Scipy. This is after this section. And by having the new parameter you can make predictions using the following function"
   ]
  },
  {
   "cell_type": "code",
   "execution_count": 214,
   "metadata": {
    "collapsed": true
   },
   "outputs": [],
   "source": [
    "def predict(theta, X):\n",
    "    \n",
    "    #After the dot product, we want the positive values:\n",
    "    p = X@theta>=0\n",
    "    \n",
    "    return p"
   ]
  },
  {
   "cell_type": "markdown",
   "metadata": {},
   "source": [
    "## Scipy"
   ]
  },
  {
   "cell_type": "code",
   "execution_count": 3,
   "metadata": {
    "collapsed": true
   },
   "outputs": [],
   "source": [
    "from scipy import optimize\n",
    "#Optimize is a module that we are going to use to run\n",
    "#the \"advanced optimization\" techniques"
   ]
  },
  {
   "cell_type": "markdown",
   "metadata": {},
   "source": [
    "It provides an optimization module for root finding and minimization. As of `scipy 1.0`, the function `scipy.optimize.minimize` is the method to use for optimization problems(both constrained and unconstrained).\n",
    "\n",
    "For logistic regression, you want to optimize the cost function $J(\\theta)$ with parameters $\\theta$.\n",
    "Concretely, you are going to use `optimize.minimize` to find the best parameters $\\theta$ for the logistic regression cost function, given a fixed dataset (of X and y values). You will pass to `optimize.minimize` the following inputs:\n",
    "- `costFunction`: A cost function that, when given the training set and a particular $\\theta$, computes the logistic regression cost and gradient with respect to $\\theta$ for the dataset (X, y). \n",
    "- `initial_theta`: The initial values of the parameters we are trying to optimize.\n",
    "- `(X, y)`: These are additional arguments to the cost function.\n",
    "- `jac`: Indication if the cost function returns the Jacobian (gradient) along with cost value. (True)\n",
    "- `method`: Optimization method/algorithm to use\n",
    "- `options`: Additional options which might be specific to the specific optimization method. In the following, we only tell the algorithm the maximum number of iterations before it terminates.\n",
    "\n",
    "The function `optimize.minimize` will converge on the right optimization parameters and return the final values of the cost and $\\theta$ in a class object. Notice that by using `optimize.minimize`, you did not have to write any loops yourself, or set a learning rate like you did for gradient descent. This is all done by `optimize.minimize`: you only needed to provide a function calculating the cost and the gradient."
   ]
  },
  {
   "cell_type": "code",
   "execution_count": 62,
   "metadata": {},
   "outputs": [
    {
     "data": {
      "text/plain": [
       "     fun: 0.20349770158947492\n",
       "     jac: array([  9.32681149e-09,   1.15776343e-07,   4.86078485e-07])\n",
       " message: 'Local minimum reached (|pg| ~= 0)'\n",
       "    nfev: 36\n",
       "     nit: 17\n",
       "  status: 0\n",
       " success: True\n",
       "       x: array([-25.16131854,   0.20623159,   0.20147149])"
      ]
     },
     "execution_count": 62,
     "metadata": {},
     "output_type": "execute_result"
    }
   ],
   "source": [
    "# set options for optimize.minimize\n",
    "options= {'maxiter': 400}\n",
    "\n",
    "# The function returns an object `OptimizeResult`\n",
    "# We use truncated Newton algorithm for optimization\n",
    "res = optimize.minimize(cost_func,\n",
    "                        initial_theta,\n",
    "                        (X, y),\n",
    "                        jac=True,\n",
    "                        method='TNC',\n",
    "                        options=options)\n",
    "\n",
    "res"
   ]
  },
  {
   "cell_type": "markdown",
   "metadata": {},
   "source": [
    "We can see:\n",
    "- fun: error of local minimum\n",
    "- x: local minimum\n",
    "- nit: number of iterations"
   ]
  },
  {
   "cell_type": "markdown",
   "metadata": {},
   "source": [
    "Here I am going to define a function that will let us draw a line in a scatter plot, notice that it can be mofidied so that we can fit any curve"
   ]
  },
  {
   "cell_type": "code",
   "execution_count": 94,
   "metadata": {},
   "outputs": [
    {
     "data": {
      "image/png": "[encoded data removed]",
      "text/plain": [
       "<matplotlib.figure.Figure at 0x7faa1bf37e80>"
      ]
     },
     "metadata": {},
     "output_type": "display_data"
    }
   ],
   "source": [
    "import matplotlib.pyplot as plt \n",
    "import numpy as np    \n",
    "\n",
    "def abline(theta):\n",
    "    #from: https://stackoverflow.com/questions/7941226/how-to-add-line-based-on-slope-and-intercept-in-matplotlib\n",
    "    #get current axis\n",
    "    axes = plt.gca()\n",
    "    \n",
    "    #get_xlim() => lims from graph\n",
    "    x_vals = np.array(axes.get_xlim())\n",
    "    \n",
    "    y_vals = (-theta[0]-theta[1]*x_vals)/theta[2]\n",
    "    plt.plot(x_vals, y_vals, '--')\n",
    "    \n",
    "plotData(X[:,1:],y)\n",
    "abline(res.x)\n",
    "plt.legend(['Regression line','Admitted','Not Admitted']);"
   ]
  },
  {
   "cell_type": "markdown",
   "metadata": {},
   "source": [
    "## Regularized Logistic Regression\n",
    "The only thing that we need to change is the cost function, since we are going to use `minimize` in order to fit our parameters (we need to choose the right lambda to avoid overfit and underfit)."
   ]
  },
  {
   "cell_type": "code",
   "execution_count": null,
   "metadata": {
    "collapsed": true
   },
   "outputs": [],
   "source": [
    "def costFunctionReg(theta, X, y, lambda_):\n",
    "    # Initialize some useful values\n",
    "    m = y.size  \n",
    "    theta_aux = theta.copy()\n",
    "    theta_aux[0] = 0\n",
    "    aux = sigmoid(X@theta)\n",
    "    \n",
    "    #Cost:\n",
    "    J = -y@np.log(aux) - (1-y)@np.log(1-aux)\n",
    "    J /= m\n",
    "    J += theta_aux@theta_aux*lambda_/(2*m)\n",
    "    \n",
    "    grad = (X.transpose()@(aux-y) + lambda_*theta_aux)/m\n",
    "    return J, grad"
   ]
  }
 ],
 "metadata": {
  "kernelspec": {
   "display_name": "Python 3",
   "language": "python",
   "name": "python3"
  },
  "language_info": {
   "codemirror_mode": {
    "name": "ipython",
    "version": 3
   },
   "file_extension": ".py",
   "mimetype": "text/x-python",
   "name": "python",
   "nbconvert_exporter": "python",
   "pygments_lexer": "ipython3",
   "version": "3.6.8"
  }
 },
 "nbformat": 4,
 "nbformat_minor": 2
}
